{
  "cells": [
    {
      "cell_type": "markdown",
      "metadata": {
        "id": "view-in-github",
        "colab_type": "text"
      },
      "source": [
        "<a href=\"https://colab.research.google.com/github/camilotabago05/entregable1_devops/blob/main/Aplicacion_Comercio.ipynb\" target=\"_parent\"><img src=\"https://colab.research.google.com/assets/colab-badge.svg\" alt=\"Open In Colab\"/></a>"
      ]
    },
    {
      "cell_type": "code",
      "execution_count": null,
      "metadata": {
        "id": "GOg6tKlEqFjC"
      },
      "outputs": [],
      "source": [
        "import csv"
      ]
    },
    {
      "cell_type": "code",
      "execution_count": null,
      "metadata": {
        "id": "rK5i0NEUqJIj"
      },
      "outputs": [],
      "source": [
        "# Clase que representa un producto en la tienda\n",
        "class Producto:\n",
        "  def __init__(self, sku, nombre, descripcion, cantidad, precio_unitario):\n",
        "    self.sku = sku\n",
        "    self.nombre = nombre\n",
        "    self.descripcion = descripcion\n",
        "    self.cantidad = cantidad\n",
        "    self.precio_unitario = precio_unitario\n",
        "\n",
        "  # Método para calcular el precio total del producto en base a la cantidad\n",
        "  def calcular_precio_total(self, cantidad):\n",
        "    if self.sku.startswith(\"EA\"):\n",
        "      return self.precio_unitario * cantidad\n",
        "    elif self.sku.startswith(\"WE\"):\n",
        "        #se multiplica por 1000 porque en el csv se pone el precio por gramo y al agregar el producto la compra se\n",
        "        #hace por kilogramo\n",
        "      return (self.precio_unitario * 1000) * cantidad\n",
        "    elif self.sku.startswith(\"SP\"):\n",
        "      precio_total = self.precio_unitario * cantidad\n",
        "      if cantidad >= 3:\n",
        "        descuento = min(int(cantidad / 3) * 20, 50)\n",
        "        precio_total *= (1 - descuento / 100)\n",
        "      return precio_total"
      ]
    },
    {
      "cell_type": "code",
      "execution_count": null,
      "metadata": {
        "id": "WTyfDZFDqL-x"
      },
      "outputs": [],
      "source": [
        "# Clase que representa un carrito de compras\n",
        "class CarritoCompras:\n",
        "  def __init__(self):\n",
        "    self.productos = {}\n",
        "\n",
        "  # Método para agregar un producto al carrito de compras\n",
        "  def agregar_producto(self, producto, cantidad):\n",
        "    if producto.cantidad < cantidad:\n",
        "      print(\"No hay suficientes unidades disponibles de {} para agregar al carrito\".format(producto.nombre))\n",
        "      return\n",
        "    if producto in self.productos:\n",
        "      self.productos[producto] += cantidad\n",
        "    else:\n",
        "      self.productos[producto] = cantidad\n",
        "    producto.cantidad -= cantidad\n",
        "    print(\"Se agregó al carrito {} {} por un total de ${}\".format(cantidad, producto.nombre, producto.calcular_precio_total(cantidad)))\n",
        "\n",
        "  # Método para eliminar un producto del carrito de compras\n",
        "  def eliminar_producto(self, producto):\n",
        "    cantidad = self.productos.pop(producto)\n",
        "    producto.cantidad += cantidad\n",
        "    print(\"Se eliminó del carrito {} {} por un total de ${}\".format(cantidad, producto.nombre, producto.calcular_precio_total(cantidad)))\n",
        "\n",
        "  # Método para obtener el precio total del carrito de compras\n",
        "  def calcular_precio_total(self):\n",
        "    precio_total = 0\n",
        "    for producto, cantidad in self.productos.items():\n",
        "      precio_total += producto.calcular_precio_total(cantidad)\n",
        "    return precio_total\n",
        "\n",
        "  # Método para comprar los productos del carrito de compras\n",
        "  def comprar(self):\n",
        "    precio_total = self.calcular_precio_total()\n",
        "    print(\"El precio total de la compra es ${}\".format(precio_total))\n",
        "    # TODO: Lógica para acumular el valor de la venta en la tienda y descontar las unidades vendidas de cada producto"
      ]
    },
    {
      "cell_type": "code",
      "execution_count": null,
      "metadata": {
        "id": "Ae-qkP-Dqe4M"
      },
      "outputs": [],
      "source": [
        "# Carga de la información de los productos desde un archivo CSV\n",
        "productos = []\n",
        "with open(\"productos.csv\") as archivo_csv:\n",
        "  lector_csv = csv.reader(archivo_csv)\n",
        "  for fila in lector_csv:\n",
        "    sku, nombre, descripcion, cantidad, precio_unitario = fila\n",
        "    cantidad = int(cantidad)\n",
        "    precio_unitario = float(precio_unitario)\n",
        "    producto = Producto(sku, nombre, descripcion, cantidad, precio_unitario)\n",
        "    productos.append(producto)"
      ]
    },
    {
      "cell_type": "code",
      "execution_count": null,
      "metadata": {
        "colab": {
          "base_uri": "https://localhost:8080/"
        },
        "id": "Z_mDM-wzqk8x",
        "outputId": "b38a3ce3-e359-47ef-ae09-f1ffb957e2d3"
      },
      "outputs": [
        {
          "name": "stdout",
          "output_type": "stream",
          "text": [
            "Se agregó al carrito 8 papa por un total de $36000.0\n",
            "Se agregó al carrito 2 cilantro por un total de $4000.0\n",
            "El precio total de la compra es $40000.0\n"
          ]
        }
      ],
      "source": [
        "# Ejemplo de uso EA\n",
        "carrito = CarritoCompras()\n",
        "\n",
        "# Agregar un producto al carrito\n",
        "producto = productos[0]\n",
        "carrito.agregar_producto(producto, 8)\n",
        "\n",
        "# Agregar otro producto al carrito\n",
        "producto = productos[1]\n",
        "carrito.agregar_producto(producto, 2)\n",
        "\n",
        "carrito.comprar()"
      ]
    },
    {
      "cell_type": "code",
      "execution_count": null,
      "metadata": {
        "colab": {
          "base_uri": "https://localhost:8080/"
        },
        "id": "omAtrCJ33KZW",
        "outputId": "4867ba9f-121b-4e29-a42c-e54dc5db3467"
      },
      "outputs": [
        {
          "name": "stdout",
          "output_type": "stream",
          "text": [
            "Se agregó al carrito 0.5 cebolla por un total de $4100.0\n"
          ]
        }
      ],
      "source": [
        "# Ejemplo de uso para tipo WE\n",
        "carrito = CarritoCompras()\n",
        "\n",
        "# Agregar un producto al carrito\n",
        "producto = productos[2]\n",
        "carrito.agregar_producto(producto, 0.5)"
      ]
    },
    {
      "cell_type": "code",
      "execution_count": null,
      "metadata": {
        "colab": {
          "base_uri": "https://localhost:8080/"
        },
        "id": "G9xqFsPaEzUT",
        "outputId": "269fd574-821d-49d3-ca04-75f2daafc1bc"
      },
      "outputs": [
        {
          "name": "stdout",
          "output_type": "stream",
          "text": [
            "Se eliminó del carrito 0.5 cebolla por un total de $4100.0\n"
          ]
        }
      ],
      "source": [
        "#Eliminar un producto para restaurar inventario\n",
        "producto = productos[2]\n",
        "carrito.eliminar_producto(producto)"
      ]
    },
    {
      "cell_type": "code",
      "execution_count": null,
      "metadata": {
        "colab": {
          "base_uri": "https://localhost:8080/"
        },
        "id": "eiQux3znFGIg",
        "outputId": "0c2e0a0b-3792-4aa4-8b56-a6c3551c976e"
      },
      "outputs": [
        {
          "name": "stdout",
          "output_type": "stream",
          "text": [
            "Se agregó al carrito 6 leche por un total de $14400.0\n"
          ]
        }
      ],
      "source": [
        "# Ejemplo de uso SP\n",
        "carrito = CarritoCompras()\n",
        "\n",
        "# Agregar un producto al carrito\n",
        "producto = productos[3]\n",
        "carrito.agregar_producto(producto, 6)"
      ]
    },
    {
      "cell_type": "code",
      "execution_count": null,
      "metadata": {
        "id": "V-u45FSTFJd-"
      },
      "outputs": [],
      "source": []
    },
    {
      "cell_type": "code",
      "execution_count": null,
      "metadata": {
        "id": "NtFk91F54tiQ"
      },
      "outputs": [],
      "source": []
    }
  ],
  "metadata": {
    "colab": {
      "provenance": [],
      "include_colab_link": true
    },
    "kernelspec": {
      "display_name": "Python 3",
      "language": "python",
      "name": "python3"
    },
    "language_info": {
      "codemirror_mode": {
        "name": "ipython",
        "version": 3
      },
      "file_extension": ".py",
      "mimetype": "text/x-python",
      "name": "python",
      "nbconvert_exporter": "python",
      "pygments_lexer": "ipython3",
      "version": "3.8.5"
    }
  },
  "nbformat": 4,
  "nbformat_minor": 0
}